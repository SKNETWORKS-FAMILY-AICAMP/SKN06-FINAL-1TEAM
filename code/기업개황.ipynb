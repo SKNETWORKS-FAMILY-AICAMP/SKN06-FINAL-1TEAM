{
 "cells": [
  {
   "cell_type": "markdown",
   "metadata": {},
   "source": [
    "# 기업개황"
   ]
  },
  {
   "cell_type": "code",
   "execution_count": 1,
   "metadata": {},
   "outputs": [
    {
     "name": "stdout",
     "output_type": "stream",
     "text": [
      "<class 'pandas.core.frame.DataFrame'>\n",
      "RangeIndex: 3826 entries, 0 to 3825\n",
      "Data columns (total 19 columns):\n",
      " #   Column         Non-Null Count  Dtype  \n",
      "---  ------         --------------  -----  \n",
      " 0   status         3826 non-null   int64  \n",
      " 1   message        3826 non-null   object \n",
      " 2   corp_code      3826 non-null   int64  \n",
      " 3   corp_name      3826 non-null   object \n",
      " 4   corp_name_eng  3823 non-null   object \n",
      " 5   stock_name     3826 non-null   object \n",
      " 6   stock_code     3826 non-null   int64  \n",
      " 7   ceo_nm         3826 non-null   object \n",
      " 8   corp_cls       3826 non-null   object \n",
      " 9   jurir_no       3789 non-null   float64\n",
      " 10  bizr_no        3826 non-null   object \n",
      " 11  adres          3826 non-null   object \n",
      " 12  hm_url         3613 non-null   object \n",
      " 13  ir_url         285 non-null    object \n",
      " 14  phn_no         3826 non-null   object \n",
      " 15  fax_no         3542 non-null   object \n",
      " 16  induty_code    3826 non-null   int64  \n",
      " 17  est_dt         3826 non-null   int64  \n",
      " 18  acc_mt         3826 non-null   int64  \n",
      "dtypes: float64(1), int64(6), object(12)\n",
      "memory usage: 568.1+ KB\n"
     ]
    }
   ],
   "source": [
    "import pandas as pd\n",
    "rldjq = pd.read_csv(\"all_company.csv\")\n",
    "rldjq.info()"
   ]
  },
  {
   "cell_type": "code",
   "execution_count": 2,
   "metadata": {},
   "outputs": [
    {
     "data": {
      "text/html": [
       "<div>\n",
       "<style scoped>\n",
       "    .dataframe tbody tr th:only-of-type {\n",
       "        vertical-align: middle;\n",
       "    }\n",
       "\n",
       "    .dataframe tbody tr th {\n",
       "        vertical-align: top;\n",
       "    }\n",
       "\n",
       "    .dataframe thead th {\n",
       "        text-align: right;\n",
       "    }\n",
       "</style>\n",
       "<table border=\"1\" class=\"dataframe\">\n",
       "  <thead>\n",
       "    <tr style=\"text-align: right;\">\n",
       "      <th></th>\n",
       "      <th>corp_code</th>\n",
       "      <th>corp_name</th>\n",
       "      <th>corp_cls</th>\n",
       "    </tr>\n",
       "  </thead>\n",
       "  <tbody>\n",
       "    <tr>\n",
       "      <th>0</th>\n",
       "      <td>1718407</td>\n",
       "      <td>주식회사 블랙야크아이앤씨</td>\n",
       "      <td>코스닥</td>\n",
       "    </tr>\n",
       "    <tr>\n",
       "      <th>1</th>\n",
       "      <td>1601286</td>\n",
       "      <td>미래에셋비전기업인수목적1호 주식회사</td>\n",
       "      <td>기타</td>\n",
       "    </tr>\n",
       "    <tr>\n",
       "      <th>2</th>\n",
       "      <td>1091382</td>\n",
       "      <td>(주)세토피아</td>\n",
       "      <td>코스닥</td>\n",
       "    </tr>\n",
       "    <tr>\n",
       "      <th>3</th>\n",
       "      <td>585219</td>\n",
       "      <td>세원이앤씨(주)</td>\n",
       "      <td>유가</td>\n",
       "    </tr>\n",
       "    <tr>\n",
       "      <th>4</th>\n",
       "      <td>1274310</td>\n",
       "      <td>이오플로우(주)</td>\n",
       "      <td>코스닥</td>\n",
       "    </tr>\n",
       "  </tbody>\n",
       "</table>\n",
       "</div>"
      ],
      "text/plain": [
       "   corp_code            corp_name corp_cls\n",
       "0    1718407        주식회사 블랙야크아이앤씨      코스닥\n",
       "1    1601286  미래에셋비전기업인수목적1호 주식회사       기타\n",
       "2    1091382              (주)세토피아      코스닥\n",
       "3     585219             세원이앤씨(주)       유가\n",
       "4    1274310             이오플로우(주)      코스닥"
      ]
     },
     "execution_count": 2,
     "metadata": {},
     "output_type": "execute_result"
    }
   ],
   "source": [
    "rldjq\n",
    "drop_columns_rldjq = [\"status\", \"message\",\"corp_name_eng\"]\n",
    "rldjq[\"jurir_no\"] = rldjq[\"jurir_no\"].fillna(\"미제공\")\n",
    "rldjq[\"hm_url\"] = rldjq[\"hm_url\"].fillna(\"미제공\")\n",
    "rldjq[\"fax_no\"] = rldjq[\"fax_no\"].fillna(\"미제공\")\n",
    "rldjq[\"ir_url\"] = rldjq[\"ir_url\"].fillna(\"미제공\")\n",
    "corp_cls_mapping = {\n",
    "    \"Y\": \"유가\",\n",
    "    \"K\": \"코스닥\",\n",
    "    \"N\": \"코넥스\",\n",
    "    \"E\": \"기타\"\n",
    "}\n",
    "rldjq[\"corp_cls\"] = rldjq[\"corp_cls\"].map(corp_cls_mapping)\n",
    "rldjq = rldjq.drop(columns=drop_columns_rldjq)\n",
    "rldjq[[\"corp_code\", \"corp_name\", \"corp_cls\"]].head()"
   ]
  },
  {
   "cell_type": "code",
   "execution_count": 3,
   "metadata": {},
   "outputs": [
    {
     "name": "stdout",
     "output_type": "stream",
     "text": [
      "<class 'pandas.core.frame.DataFrame'>\n",
      "RangeIndex: 3826 entries, 0 to 3825\n",
      "Data columns (total 16 columns):\n",
      " #   Column       Non-Null Count  Dtype \n",
      "---  ------       --------------  ----- \n",
      " 0   corp_code    3826 non-null   object\n",
      " 1   corp_name    3826 non-null   object\n",
      " 2   stock_name   3826 non-null   object\n",
      " 3   stock_code   3826 non-null   object\n",
      " 4   ceo_nm       3826 non-null   object\n",
      " 5   corp_cls     3826 non-null   object\n",
      " 6   jurir_no     3826 non-null   object\n",
      " 7   bizr_no      3826 non-null   object\n",
      " 8   adres        3826 non-null   object\n",
      " 9   hm_url       3826 non-null   object\n",
      " 10  ir_url       3826 non-null   object\n",
      " 11  phn_no       3826 non-null   object\n",
      " 12  fax_no       3826 non-null   object\n",
      " 13  induty_code  3826 non-null   int64 \n",
      " 14  est_dt       3826 non-null   int64 \n",
      " 15  acc_mt       3826 non-null   int64 \n",
      "dtypes: int64(3), object(13)\n",
      "memory usage: 478.4+ KB\n"
     ]
    }
   ],
   "source": [
    "import pandas as pd\n",
    "\n",
    "# CSV 파일 불러오기\n",
    "rldjq = pd.read_csv(\"all_company.csv\")\n",
    "\n",
    "# 데이터 정보 출력\n",
    "\n",
    "# 필요 없는 컬럼 제거\n",
    "drop_columns_rldjq = [\"status\", \"message\", \"corp_name_eng\"]\n",
    "\n",
    "# 결측값 채우기\n",
    "rldjq[\"jurir_no\"] = rldjq[\"jurir_no\"].fillna(\"미제공\")\n",
    "rldjq[\"hm_url\"] = rldjq[\"hm_url\"].fillna(\"미제공\")\n",
    "rldjq[\"fax_no\"] = rldjq[\"fax_no\"].fillna(\"미제공\")\n",
    "rldjq[\"ir_url\"] = rldjq[\"ir_url\"].fillna(\"미제공\")\n",
    "\n",
    "# corp_cls 값 매핑\n",
    "corp_cls_mapping = {\n",
    "    \"Y\": \"유가\",\n",
    "    \"K\": \"코스닥\",\n",
    "    \"N\": \"코넥스\",\n",
    "    \"E\": \"기타\"\n",
    "}\n",
    "rldjq[\"corp_cls\"] = rldjq[\"corp_cls\"].map(corp_cls_mapping)\n",
    "\n",
    "# 필요 없는 컬럼 제거\n",
    "rldjq = rldjq.drop(columns=drop_columns_rldjq)\n",
    "\n",
    "# corp_code와 stock_code를 문자열로 변환한 후 자리수 맞추기\n",
    "rldjq[\"corp_code\"] = rldjq[\"corp_code\"].astype(str).str.zfill(8)\n",
    "rldjq[\"stock_code\"] = rldjq[\"stock_code\"].astype(str).str.zfill(6)\n",
    "\n",
    "# 정리된 데이터 저장\n",
    "cleaned_file_path = \"cleaned_all_company.csv\"\n",
    "rldjq.to_csv(cleaned_file_path, index=False)\n",
    "\n",
    "# 처리된 데이터 확인\n",
    "rldjq[[\"corp_code\", \"corp_name\", \"corp_cls\"]].head()\n",
    "rldjq.info()\n"
   ]
  }
 ],
 "metadata": {
  "kernelspec": {
   "display_name": "final",
   "language": "python",
   "name": "python3"
  },
  "language_info": {
   "codemirror_mode": {
    "name": "ipython",
    "version": 3
   },
   "file_extension": ".py",
   "mimetype": "text/x-python",
   "name": "python",
   "nbconvert_exporter": "python",
   "pygments_lexer": "ipython3",
   "version": "3.12.8"
  }
 },
 "nbformat": 4,
 "nbformat_minor": 2
}
