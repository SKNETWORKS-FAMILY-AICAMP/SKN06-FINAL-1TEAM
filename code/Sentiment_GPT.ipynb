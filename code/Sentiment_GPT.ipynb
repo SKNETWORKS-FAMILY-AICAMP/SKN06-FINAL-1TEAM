{
 "cells": [
  {
   "cell_type": "markdown",
   "metadata": {},
   "source": [
    "### 1. 데이터 로드"
   ]
  },
  {
   "cell_type": "code",
   "execution_count": 2,
   "metadata": {},
   "outputs": [],
   "source": [
    "# pip install nest_asyncio"
   ]
  },
  {
   "cell_type": "code",
   "execution_count": null,
   "metadata": {},
   "outputs": [],
   "source": [
    "# pip install pymysql"
   ]
  },
  {
   "cell_type": "code",
   "execution_count": null,
   "metadata": {},
   "outputs": [],
   "source": [
    "import os\n",
    "import re\n",
    "import asyncio\n",
    "import openai\n",
    "import pymysql\n",
    "import nest_asyncio\n",
    "import pandas as pd\n",
    "from dotenv import load_dotenv\n",
    "from sqlalchemy import create_engine, text\n",
    "from sklearn.metrics import precision_score, f1_score, roc_auc_score\n",
    "from sklearn.preprocessing import LabelEncoder"
   ]
  },
  {
   "cell_type": "code",
   "execution_count": null,
   "metadata": {},
   "outputs": [],
   "source": [
    "# asyncio 오류 방지 패키지(Jupyter 환경에서)\n",
    "nest_asyncio.apply()"
   ]
  },
  {
   "cell_type": "code",
   "execution_count": null,
   "metadata": {},
   "outputs": [
    {
     "name": "stdout",
     "output_type": "stream",
     "text": [
      "✅ 데이터 개수: 1164 개\n"
     ]
    }
   ],
   "source": [
    "# MySQL 연결 설정\n",
    "db_url = os.getenv(\"MYSQL_URL\")\n",
    "engine = create_engine(db_url, pool_recycle=3600)\n",
    "\n",
    "# MySQL 연결 테스트\n",
    "try:\n",
    "    with engine.connect() as conn:\n",
    "        result = conn.execute(text(\"SELECT COUNT(*) FROM cleaned_news_data\"))\n",
    "        count = result.scalar()\n",
    "        print(f\"✅ 데이터 개수: {count} 개\")\n",
    "except Exception as e:\n",
    "    print(f\"❌ MySQL 연결 실패: {e}\")"
   ]
  },
  {
   "cell_type": "code",
   "execution_count": null,
   "metadata": {},
   "outputs": [],
   "source": [
    "api_key = os.getenv(\"API_KEY\")"
   ]
  },
  {
   "cell_type": "code",
   "execution_count": 14,
   "metadata": {},
   "outputs": [],
   "source": [
    "# 엔진 생성\n",
    "engine = create_engine(db_url, pool_recycle=3600)"
   ]
  },
  {
   "cell_type": "markdown",
   "metadata": {},
   "source": [
    "### 2. 감정 분석 함수 정의"
   ]
  },
  {
   "cell_type": "code",
   "execution_count": null,
   "metadata": {},
   "outputs": [],
   "source": [
    "# 데이터 가져오기\n",
    "query = \"\"\"SELECT id, content_display FROM cleaned_news_data WHERE sentiment_gpt IS NULL\"\"\"\n",
    "df = pd.read_sql(query, engine)\n",
    "print(f\"감정 분석할 데이터 개수: {len(df)} 개\")"
   ]
  },
  {
   "cell_type": "code",
   "execution_count": null,
   "metadata": {},
   "outputs": [],
   "source": [
    "df = df.rename(columns={\"content_display\": \"content\"})  "
   ]
  },
  {
   "cell_type": "code",
   "execution_count": null,
   "metadata": {},
   "outputs": [],
   "source": [
    "async def batch_analyze_sentiment_gpt4o(news_list, timeout=30):\n",
    "    \"\"\"\n",
    "    GPT-4o를 이용한 감정 분석 (배치 처리).\n",
    "    \"\"\"\n",
    "    prompt = \"\\n\\n\".join(\n",
    "        [f\"[뉴스 {i+1}]\\n제목: {title}\\n본문: {content}\" for i, (title, content) in enumerate(news_list)]\n",
    "    )\n",
    "    prompt += \"\"\"\n",
    "    각 뉴스에 대해 국내 자동차 업계의 입장에서 감정을 판단하세요.\n",
    "\n",
    "    형식:\n",
    "    뉴스 1: 긍정\n",
    "    뉴스 2: 부정\n",
    "    뉴스 3: 긍정\n",
    "    뉴스 4: 부정\n",
    "    뉴스 5: 긍정\n",
    "\n",
    "    - 오직 위의 형식만 사용하고, 다른 불필요한 문장은 포함하지 마세요.\n",
    "    - 만약 감정이 애매하면 '뉴스 X: 중립'으로 답변하세요.\n",
    "    - 어떤 경우에도 '판단할 수 없습니다'라는 답변은 하지 마세요.\n",
    "    \"\"\"\n",
    "\n",
    "    try:\n",
    "        print(\"🟢 GPT 요청 시작...\")\n",
    "        response = await asyncio.wait_for(\n",
    "            client.chat.completions.create(\n",
    "                model=\"gpt-4o\",\n",
    "                messages=[{\"role\": \"user\", \"content\": prompt}]\n",
    "            ),\n",
    "            timeout=timeout\n",
    "        )\n",
    "        raw_output = response.choices[0].message.content.strip()\n",
    "\n",
    "        # ✅ GPT 응답 원본 출력\n",
    "        print(f\"🔵 GPT 원본 응답: {raw_output}\")\n",
    "\n",
    "        # ✅ 정규 표현식으로 감정 결과 정확하게 추출\n",
    "        sentiments = []\n",
    "        pattern = r\"뉴스\\s*(\\d+)\\s*:\\s*(긍정|부정|중립)\"\n",
    "        matches = re.findall(pattern, raw_output)\n",
    "\n",
    "        # ✅ 딕셔너리 형태로 매핑하여 순서 유지\n",
    "        matches_dict = {int(num): sentiment for num, sentiment in matches}\n",
    "\n",
    "        for i in range(1, len(news_list) + 1):\n",
    "            sentiments.append(matches_dict.get(i, \"N/A\"))\n",
    "\n",
    "        return sentiments\n",
    "\n",
    "    except asyncio.TimeoutError:\n",
    "        print(\"⚠️ GPT 응답 지연: 타임아웃 발생\")\n",
    "        return [\"ERROR\"] * len(news_list)"
   ]
  },
  {
   "cell_type": "markdown",
   "metadata": {},
   "source": [
    "### 3. 감정 분석 수행"
   ]
  },
  {
   "cell_type": "code",
   "execution_count": null,
   "metadata": {},
   "outputs": [],
   "source": [
    "# 배치 처리 실행\n",
    "async def process_dataframe_batch(df, batch_size=5):\n",
    "    results = []\n",
    "    \n",
    "    print(\"🔵 배치 감정 분석 시작...\")\n",
    "\n",
    "    for i in range(0, len(df), batch_size):\n",
    "        print(f\"🟢 배치 {i//batch_size + 1} 실행 중...\")\n",
    "\n",
    "        batch = df.iloc[i : i + batch_size]\n",
    "        batch_news_list = [(str(row[\"id\"]), row[\"content\"]) for _, row in batch.iterrows()]\n",
    "        \n",
    "        try:\n",
    "            sentiments = await batch_analyze_sentiment_gpt4o(batch_news_list)\n",
    "            print(f\"✅ 배치 {i//batch_size + 1} 응답 완료: {sentiments}\")\n",
    "        except Exception as e:\n",
    "            print(f\"❌ GPT 오류 발생: {e}\")\n",
    "            sentiments = [\"ERROR\"] * len(batch_news_list)\n",
    "        \n",
    "        results.extend(sentiments)\n",
    "        await asyncio.sleep(0.3)\n",
    "\n",
    "    print(\"🔵 모든 배치 처리 완료!\")\n",
    "    df[\"sentiment_gpt\"] = results\n",
    "    return df\n",
    "\n",
    "# ✅ 기존 이벤트 루프 가져와서 실행 (Google Colab에 적합)\n",
    "loop = asyncio.get_event_loop()\n",
    "df = loop.run_until_complete(process_dataframe_batch(df))\n",
    "\n",
    "# ✅ 감정 분석 결과 숫자로 변환\n",
    "sentiment_mapping = {\"긍정\": 1, \"부정\": -1, \"중립\": 0}\n",
    "\n",
    "df[\"sentiment_gpt\"] = df[\"sentiment_gpt\"].map(sentiment_mapping)\n",
    "df[\"sentiment_gpt\"] = df[\"sentiment_gpt\"].fillna(0).astype(int)\n",
    "\n",
    "# MySQL 업데이트\n",
    "update_query = text(\"UPDATE cleaned_news_data SET sentiment_gpt = :sentiment_gpt WHERE id = :id\")\n",
    "update_data = [{\"sentiment_gpt\": row[\"sentiment_gpt\"], \"id\": row[\"id\"]} for _, row in df.iterrows()]\n",
    "\n",
    "with engine.begin() as conn:\n",
    "    conn.execute(update_query, update_data)\n",
    "\n",
    "print(\"✅ MySQL 업데이트 완료!\")"
   ]
  },
  {
   "cell_type": "markdown",
   "metadata": {},
   "source": [
    "### 4. 성능 평가"
   ]
  }
 ],
 "metadata": {
  "kernelspec": {
   "display_name": "base",
   "language": "python",
   "name": "python3"
  },
  "language_info": {
   "codemirror_mode": {
    "name": "ipython",
    "version": 3
   },
   "file_extension": ".py",
   "mimetype": "text/x-python",
   "name": "python",
   "nbconvert_exporter": "python",
   "pygments_lexer": "ipython3",
   "version": "3.12.3"
  }
 },
 "nbformat": 4,
 "nbformat_minor": 2
}
